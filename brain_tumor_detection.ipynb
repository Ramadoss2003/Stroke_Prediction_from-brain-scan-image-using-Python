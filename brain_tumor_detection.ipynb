{
  "cells": [
    {
      "cell_type": "markdown",
      "id": "00d990bd",
      "metadata": {
        "id": "00d990bd",
        "papermill": {
          "duration": 0.007021,
          "end_time": "2023-02-18T06:41:11.003695",
          "exception": false,
          "start_time": "2023-02-18T06:41:10.996674",
          "status": "completed"
        },
        "tags": []
      },
      "source": [
        "## Import Necessary Libraries"
      ]
    },
    {
      "cell_type": "code",
      "execution_count": null,
      "id": "14712c8a",
      "metadata": {
        "execution": {
          "iopub.execute_input": "2023-02-18T06:41:11.018154Z",
          "iopub.status.busy": "2023-02-18T06:41:11.017560Z",
          "iopub.status.idle": "2023-02-18T06:41:18.326067Z",
          "shell.execute_reply": "2023-02-18T06:41:18.324872Z"
        },
        "id": "14712c8a",
        "papermill": {
          "duration": 7.319091,
          "end_time": "2023-02-18T06:41:18.329285",
          "exception": false,
          "start_time": "2023-02-18T06:41:11.010194",
          "status": "completed"
        },
        "tags": []
      },
      "outputs": [],
      "source": [
        "import numpy as np\n",
        "import matplotlib.pyplot as plt\n",
        "import cv2\n",
        "import os\n",
        "import tensorflow as tf\n",
        "from PIL import Image\n",
        "\n",
        "from sklearn.model_selection import train_test_split\n",
        "\n",
        "from tensorflow.keras.utils import normalize, to_categorical\n",
        "from tensorflow.keras.models import Sequential, load_model\n",
        "from tensorflow.keras.layers import Conv2D, MaxPooling2D, Activation, Dropout, Flatten, Dense \n"
      ]
    },
    {
      "cell_type": "code",
      "execution_count": null,
      "id": "x8eY8fAoAouX",
      "metadata": {
        "colab": {
          "base_uri": "https://localhost:8080/"
        },
        "id": "x8eY8fAoAouX",
        "outputId": "08151ad4-55d1-410e-f861-55ef3c3910e9"
      },
      "outputs": [
        {
          "name": "stdout",
          "output_type": "stream",
          "text": [
            "Drive already mounted at /content/gdrive; to attempt to forcibly remount, call drive.mount(\"/content/gdrive\", force_remount=True).\n"
          ]
        }
      ],
      "source": [
        "from google.colab import drive\n",
        "drive.mount('/content/gdrive')"
      ]
    },
    {
      "cell_type": "code",
      "execution_count": null,
      "id": "PW_FOVXkkMTH",
      "metadata": {
        "id": "PW_FOVXkkMTH"
      },
      "outputs": [],
      "source": [
        "image_directory='/content/gdrive/MyDrive/Testing_abide/'"
      ]
    },
    {
      "cell_type": "markdown",
      "id": "22c3aca7",
      "metadata": {
        "id": "22c3aca7",
        "papermill": {
          "duration": 0.005442,
          "end_time": "2023-02-18T06:41:18.340783",
          "exception": false,
          "start_time": "2023-02-18T06:41:18.335341",
          "status": "completed"
        },
        "tags": []
      },
      "source": [
        "## Load Data"
      ]
    },
    {
      "cell_type": "code",
      "execution_count": null,
      "id": "3745bf0e",
      "metadata": {
        "colab": {
          "base_uri": "https://localhost:8080/"
        },
        "execution": {
          "iopub.execute_input": "2023-02-18T06:41:18.354511Z",
          "iopub.status.busy": "2023-02-18T06:41:18.353352Z",
          "iopub.status.idle": "2023-02-18T06:41:18.768412Z",
          "shell.execute_reply": "2023-02-18T06:41:18.767354Z"
        },
        "id": "3745bf0e",
        "outputId": "c51978dd-b734-47b4-d6d0-5d6eeb6c062a",
        "papermill": {
          "duration": 0.42546,
          "end_time": "2023-02-18T06:41:18.771892",
          "exception": false,
          "start_time": "2023-02-18T06:41:18.346432",
          "status": "completed"
        },
        "tags": []
      },
      "outputs": [
        {
          "name": "stdout",
          "output_type": "stream",
          "text": [
            "No Tumor:  1500\n",
            "Tumor:  1500\n"
          ]
        }
      ],
      "source": [
        "image_directory='/content/gdrive/MyDrive/Testing_abide/'\n",
        "no_tumor_images=os.listdir(image_directory+ 'no-autism/')\n",
        "yes_tumor_images=os.listdir(image_directory+ 'yes-autism/')\n",
        "\n",
        "print('No Tumor: ', len(no_tumor_images))\n",
        "print('Tumor: ',len(yes_tumor_images))"
      ]
    },
    {
      "cell_type": "code",
      "execution_count": null,
      "id": "e57b0dfa",
      "metadata": {
        "execution": {
          "iopub.execute_input": "2023-02-18T06:41:18.785297Z",
          "iopub.status.busy": "2023-02-18T06:41:18.784941Z",
          "iopub.status.idle": "2023-02-18T06:41:18.790100Z",
          "shell.execute_reply": "2023-02-18T06:41:18.789021Z"
        },
        "id": "e57b0dfa",
        "papermill": {
          "duration": 0.01381,
          "end_time": "2023-02-18T06:41:18.792389",
          "exception": false,
          "start_time": "2023-02-18T06:41:18.778579",
          "status": "completed"
        },
        "tags": []
      },
      "outputs": [],
      "source": [
        "dataset=[]\n",
        "label=[]\n",
        "\n",
        "INPUT_SIZE=64"
      ]
    },
    {
      "cell_type": "markdown",
      "id": "48fae68d",
      "metadata": {
        "id": "48fae68d",
        "papermill": {
          "duration": 0.005493,
          "end_time": "2023-02-18T06:41:18.803749",
          "exception": false,
          "start_time": "2023-02-18T06:41:18.798256",
          "status": "completed"
        },
        "tags": []
      },
      "source": [
        "## Create labels "
      ]
    },
    {
      "cell_type": "code",
      "execution_count": null,
      "id": "a933fc46",
      "metadata": {
        "execution": {
          "iopub.execute_input": "2023-02-18T06:41:18.816505Z",
          "iopub.status.busy": "2023-02-18T06:41:18.816090Z",
          "iopub.status.idle": "2023-02-18T06:41:32.089158Z",
          "shell.execute_reply": "2023-02-18T06:41:32.088059Z"
        },
        "id": "a933fc46",
        "papermill": {
          "duration": 13.282627,
          "end_time": "2023-02-18T06:41:32.091898",
          "exception": false,
          "start_time": "2023-02-18T06:41:18.809271",
          "status": "completed"
        },
        "tags": []
      },
      "outputs": [],
      "source": [
        "for i , image_name in enumerate(no_tumor_images):\n",
        "    if(image_name.split('.')[1]=='jpg'):\n",
        "        image=cv2.imread(image_directory+'no-autism/'+image_name)\n",
        "        image=Image.fromarray(image,'RGB')\n",
        "        image=image.resize((INPUT_SIZE,INPUT_SIZE))\n",
        "        dataset.append(np.array(image))\n",
        "        label.append(0)"
      ]
    },
    {
      "cell_type": "code",
      "execution_count": null,
      "id": "c870c431",
      "metadata": {
        "execution": {
          "iopub.execute_input": "2023-02-18T06:41:32.105474Z",
          "iopub.status.busy": "2023-02-18T06:41:32.105013Z",
          "iopub.status.idle": "2023-02-18T06:41:49.182425Z",
          "shell.execute_reply": "2023-02-18T06:41:49.181280Z"
        },
        "id": "c870c431",
        "papermill": {
          "duration": 17.087052,
          "end_time": "2023-02-18T06:41:49.185136",
          "exception": false,
          "start_time": "2023-02-18T06:41:32.098084",
          "status": "completed"
        },
        "tags": []
      },
      "outputs": [],
      "source": [
        "for i , image_name in enumerate(yes_tumor_images):\n",
        "    if(image_name.split('.')[1]=='jpg'):\n",
        "        image=cv2.imread(image_directory+'yes-autism/'+image_name)\n",
        "        image=Image.fromarray(image, 'RGB')\n",
        "        image=image.resize((INPUT_SIZE,INPUT_SIZE))\n",
        "        dataset.append(np.array(image))\n",
        "        label.append(1)"
      ]
    },
    {
      "cell_type": "code",
      "execution_count": null,
      "id": "d99d25cb",
      "metadata": {
        "colab": {
          "base_uri": "https://localhost:8080/"
        },
        "execution": {
          "iopub.execute_input": "2023-02-18T06:41:49.199845Z",
          "iopub.status.busy": "2023-02-18T06:41:49.199175Z",
          "iopub.status.idle": "2023-02-18T06:41:49.223431Z",
          "shell.execute_reply": "2023-02-18T06:41:49.221909Z"
        },
        "id": "d99d25cb",
        "outputId": "0308028c-965e-4e81-a2ae-a01a826ba2ed",
        "papermill": {
          "duration": 0.034243,
          "end_time": "2023-02-18T06:41:49.225961",
          "exception": false,
          "start_time": "2023-02-18T06:41:49.191718",
          "status": "completed"
        },
        "tags": []
      },
      "outputs": [
        {
          "name": "stdout",
          "output_type": "stream",
          "text": [
            "Dataset:  3000\n",
            "Label:  3000\n"
          ]
        }
      ],
      "source": [
        "dataset=np.array(dataset)\n",
        "label=np.array(label)\n",
        "\n",
        "print('Dataset: ',len(dataset))\n",
        "print('Label: ',len(label))"
      ]
    },
    {
      "cell_type": "markdown",
      "id": "04f5dadc",
      "metadata": {
        "id": "04f5dadc",
        "papermill": {
          "duration": 0.005727,
          "end_time": "2023-02-18T06:41:49.237640",
          "exception": false,
          "start_time": "2023-02-18T06:41:49.231913",
          "status": "completed"
        },
        "tags": []
      },
      "source": [
        "## Train-Test Split"
      ]
    },
    {
      "cell_type": "code",
      "execution_count": null,
      "id": "83c51ff9",
      "metadata": {
        "execution": {
          "iopub.execute_input": "2023-02-18T06:41:49.250914Z",
          "iopub.status.busy": "2023-02-18T06:41:49.250540Z",
          "iopub.status.idle": "2023-02-18T06:41:49.271461Z",
          "shell.execute_reply": "2023-02-18T06:41:49.270381Z"
        },
        "id": "83c51ff9",
        "papermill": {
          "duration": 0.03055,
          "end_time": "2023-02-18T06:41:49.273998",
          "exception": false,
          "start_time": "2023-02-18T06:41:49.243448",
          "status": "completed"
        },
        "tags": []
      },
      "outputs": [],
      "source": [
        "X_train, X_test, y_train, y_test = train_test_split(dataset, label, test_size=0.2, random_state=2023)"
      ]
    },
    {
      "cell_type": "markdown",
      "id": "27cd6544",
      "metadata": {
        "id": "27cd6544",
        "papermill": {
          "duration": 0.00543,
          "end_time": "2023-02-18T06:41:49.285856",
          "exception": false,
          "start_time": "2023-02-18T06:41:49.280426",
          "status": "completed"
        },
        "tags": []
      },
      "source": [
        "## Normalize the Data"
      ]
    },
    {
      "cell_type": "code",
      "execution_count": null,
      "id": "54ef6fbc",
      "metadata": {
        "execution": {
          "iopub.execute_input": "2023-02-18T06:41:49.298606Z",
          "iopub.status.busy": "2023-02-18T06:41:49.298193Z",
          "iopub.status.idle": "2023-02-18T06:41:49.622060Z",
          "shell.execute_reply": "2023-02-18T06:41:49.620881Z"
        },
        "id": "54ef6fbc",
        "papermill": {
          "duration": 0.333524,
          "end_time": "2023-02-18T06:41:49.625027",
          "exception": false,
          "start_time": "2023-02-18T06:41:49.291503",
          "status": "completed"
        },
        "tags": []
      },
      "outputs": [],
      "source": [
        "X_train = normalize(X_train, axis=1)\n",
        "X_test = normalize(X_test, axis=1)"
      ]
    },
    {
      "cell_type": "markdown",
      "id": "0625c2a4",
      "metadata": {
        "id": "0625c2a4",
        "papermill": {
          "duration": 0.00558,
          "end_time": "2023-02-18T06:41:49.637112",
          "exception": false,
          "start_time": "2023-02-18T06:41:49.631532",
          "status": "completed"
        },
        "tags": []
      },
      "source": [
        "## Model Building"
      ]
    },
    {
      "cell_type": "code",
      "execution_count": null,
      "id": "fbd52b17",
      "metadata": {
        "execution": {
          "iopub.execute_input": "2023-02-18T06:41:49.650797Z",
          "iopub.status.busy": "2023-02-18T06:41:49.650391Z",
          "iopub.status.idle": "2023-02-18T06:41:53.203418Z",
          "shell.execute_reply": "2023-02-18T06:41:53.202353Z"
        },
        "id": "fbd52b17",
        "papermill": {
          "duration": 3.563033,
          "end_time": "2023-02-18T06:41:53.206289",
          "exception": false,
          "start_time": "2023-02-18T06:41:49.643256",
          "status": "completed"
        },
        "tags": []
      },
      "outputs": [],
      "source": [
        "model=Sequential()\n",
        "\n",
        "model.add(Conv2D(32, (3,3),activation='relu', input_shape=(INPUT_SIZE, INPUT_SIZE, 3)))\n",
        "model.add(MaxPooling2D(pool_size=(2,2)))\n",
        "\n",
        "model.add(Conv2D(32, (3,3),activation='relu', kernel_initializer='he_uniform'))\n",
        "model.add(MaxPooling2D(pool_size=(2,2)))\n",
        "\n",
        "model.add(Conv2D(64, (3,3),activation='relu', kernel_initializer='he_uniform'))\n",
        "model.add(MaxPooling2D(pool_size=(2,2)))\n",
        "\n",
        "model.add(Flatten())\n",
        "model.add(Dense(64,activation='relu'))\n",
        "model.add(Dropout(0.5))\n",
        "model.add(Dense(1,activation='sigmoid'))"
      ]
    },
    {
      "cell_type": "code",
      "execution_count": null,
      "id": "f0e39661",
      "metadata": {
        "execution": {
          "iopub.execute_input": "2023-02-18T06:41:53.219555Z",
          "iopub.status.busy": "2023-02-18T06:41:53.219171Z",
          "iopub.status.idle": "2023-02-18T06:41:53.232810Z",
          "shell.execute_reply": "2023-02-18T06:41:53.231904Z"
        },
        "id": "f0e39661",
        "papermill": {
          "duration": 0.022612,
          "end_time": "2023-02-18T06:41:53.234918",
          "exception": false,
          "start_time": "2023-02-18T06:41:53.212306",
          "status": "completed"
        },
        "tags": []
      },
      "outputs": [],
      "source": [
        "# compile the model\n",
        "model.compile(loss='binary_crossentropy',optimizer='adam', metrics=['accuracy'])"
      ]
    },
    {
      "cell_type": "markdown",
      "id": "b05605d8",
      "metadata": {
        "id": "b05605d8",
        "papermill": {
          "duration": 0.005675,
          "end_time": "2023-02-18T06:41:53.246665",
          "exception": false,
          "start_time": "2023-02-18T06:41:53.240990",
          "status": "completed"
        },
        "tags": []
      },
      "source": [
        "## Model Fit"
      ]
    },
    {
      "cell_type": "code",
      "execution_count": null,
      "id": "95f99784",
      "metadata": {
        "colab": {
          "base_uri": "https://localhost:8080/"
        },
        "execution": {
          "iopub.execute_input": "2023-02-18T06:41:53.259811Z",
          "iopub.status.busy": "2023-02-18T06:41:53.259446Z",
          "iopub.status.idle": "2023-02-18T06:43:16.539576Z",
          "shell.execute_reply": "2023-02-18T06:43:16.538384Z"
        },
        "id": "95f99784",
        "outputId": "257b5c6d-a158-4593-9da2-d6603b53a178",
        "papermill": {
          "duration": 83.289647,
          "end_time": "2023-02-18T06:43:16.542123",
          "exception": false,
          "start_time": "2023-02-18T06:41:53.252476",
          "status": "completed"
        },
        "tags": []
      },
      "outputs": [
        {
          "name": "stdout",
          "output_type": "stream",
          "text": [
            "Epoch 1/100\n",
            "75/75 [==============================] - 25s 317ms/step - loss: 0.5645 - accuracy: 0.7088 - val_loss: 0.4409 - val_accuracy: 0.8000\n",
            "Epoch 2/100\n",
            "75/75 [==============================] - 14s 188ms/step - loss: 0.4460 - accuracy: 0.8087 - val_loss: 0.3666 - val_accuracy: 0.8350\n",
            "Epoch 3/100\n",
            "75/75 [==============================] - 15s 198ms/step - loss: 0.3648 - accuracy: 0.8483 - val_loss: 0.3072 - val_accuracy: 0.8683\n",
            "Epoch 4/100\n",
            "75/75 [==============================] - 14s 191ms/step - loss: 0.2829 - accuracy: 0.8854 - val_loss: 0.2642 - val_accuracy: 0.9000\n",
            "Epoch 5/100\n",
            "75/75 [==============================] - 14s 191ms/step - loss: 0.2240 - accuracy: 0.9167 - val_loss: 0.2335 - val_accuracy: 0.9150\n",
            "Epoch 6/100\n",
            "75/75 [==============================] - 15s 199ms/step - loss: 0.1687 - accuracy: 0.9442 - val_loss: 0.1921 - val_accuracy: 0.9350\n",
            "Epoch 7/100\n",
            "75/75 [==============================] - 14s 193ms/step - loss: 0.1318 - accuracy: 0.9592 - val_loss: 0.1664 - val_accuracy: 0.9483\n",
            "Epoch 8/100\n",
            "75/75 [==============================] - 15s 207ms/step - loss: 0.0868 - accuracy: 0.9717 - val_loss: 0.1614 - val_accuracy: 0.9567\n",
            "Epoch 9/100\n",
            "75/75 [==============================] - 15s 199ms/step - loss: 0.0777 - accuracy: 0.9729 - val_loss: 0.1482 - val_accuracy: 0.9550\n",
            "Epoch 10/100\n",
            "75/75 [==============================] - 15s 198ms/step - loss: 0.0580 - accuracy: 0.9829 - val_loss: 0.1599 - val_accuracy: 0.9550\n",
            "Epoch 11/100\n",
            "75/75 [==============================] - 15s 199ms/step - loss: 0.0426 - accuracy: 0.9871 - val_loss: 0.1498 - val_accuracy: 0.9533\n",
            "Epoch 12/100\n",
            "75/75 [==============================] - 15s 199ms/step - loss: 0.0280 - accuracy: 0.9925 - val_loss: 0.1609 - val_accuracy: 0.9650\n",
            "Epoch 13/100\n",
            "75/75 [==============================] - 14s 191ms/step - loss: 0.0322 - accuracy: 0.9896 - val_loss: 0.1548 - val_accuracy: 0.9733\n",
            "Epoch 14/100\n",
            "75/75 [==============================] - 15s 198ms/step - loss: 0.0177 - accuracy: 0.9958 - val_loss: 0.1263 - val_accuracy: 0.9700\n",
            "Epoch 15/100\n",
            "75/75 [==============================] - 14s 190ms/step - loss: 0.0107 - accuracy: 0.9971 - val_loss: 0.1418 - val_accuracy: 0.9733\n",
            "Epoch 16/100\n",
            "75/75 [==============================] - 16s 220ms/step - loss: 0.0059 - accuracy: 0.9987 - val_loss: 0.1415 - val_accuracy: 0.9717\n",
            "Epoch 17/100\n",
            "75/75 [==============================] - 15s 198ms/step - loss: 0.0086 - accuracy: 0.9983 - val_loss: 0.1793 - val_accuracy: 0.9783\n",
            "Epoch 18/100\n",
            "75/75 [==============================] - 15s 198ms/step - loss: 0.0080 - accuracy: 0.9983 - val_loss: 0.1541 - val_accuracy: 0.9783\n",
            "Epoch 19/100\n",
            "75/75 [==============================] - 15s 198ms/step - loss: 0.0034 - accuracy: 1.0000 - val_loss: 0.1436 - val_accuracy: 0.9783\n",
            "Epoch 20/100\n",
            "75/75 [==============================] - 15s 198ms/step - loss: 0.0030 - accuracy: 0.9996 - val_loss: 0.1874 - val_accuracy: 0.9767\n",
            "Epoch 21/100\n",
            "75/75 [==============================] - 15s 198ms/step - loss: 0.0088 - accuracy: 0.9971 - val_loss: 0.1754 - val_accuracy: 0.9700\n",
            "Epoch 22/100\n",
            "75/75 [==============================] - 14s 192ms/step - loss: 0.0151 - accuracy: 0.9954 - val_loss: 0.2115 - val_accuracy: 0.9800\n",
            "Epoch 23/100\n",
            "75/75 [==============================] - 15s 198ms/step - loss: 0.0171 - accuracy: 0.9954 - val_loss: 0.1825 - val_accuracy: 0.9783\n",
            "Epoch 24/100\n",
            "75/75 [==============================] - 15s 198ms/step - loss: 0.0148 - accuracy: 0.9954 - val_loss: 0.1860 - val_accuracy: 0.9667\n",
            "Epoch 25/100\n",
            "75/75 [==============================] - 15s 198ms/step - loss: 0.0144 - accuracy: 0.9962 - val_loss: 0.1749 - val_accuracy: 0.9767\n",
            "Epoch 26/100\n",
            "75/75 [==============================] - 15s 197ms/step - loss: 0.0051 - accuracy: 0.9979 - val_loss: 0.1787 - val_accuracy: 0.9733\n",
            "Epoch 27/100\n",
            "75/75 [==============================] - 15s 198ms/step - loss: 0.0023 - accuracy: 0.9992 - val_loss: 0.1872 - val_accuracy: 0.9750\n",
            "Epoch 28/100\n",
            "75/75 [==============================] - 15s 199ms/step - loss: 0.0015 - accuracy: 0.9996 - val_loss: 0.1886 - val_accuracy: 0.9733\n",
            "Epoch 29/100\n",
            "75/75 [==============================] - 15s 198ms/step - loss: 0.0013 - accuracy: 1.0000 - val_loss: 0.1913 - val_accuracy: 0.9750\n",
            "Epoch 30/100\n",
            "75/75 [==============================] - 15s 199ms/step - loss: 6.0003e-04 - accuracy: 1.0000 - val_loss: 0.1984 - val_accuracy: 0.9733\n",
            "Epoch 31/100\n",
            "75/75 [==============================] - 15s 198ms/step - loss: 4.1896e-04 - accuracy: 1.0000 - val_loss: 0.2083 - val_accuracy: 0.9733\n",
            "Epoch 32/100\n",
            "75/75 [==============================] - 17s 230ms/step - loss: 3.1506e-04 - accuracy: 1.0000 - val_loss: 0.2141 - val_accuracy: 0.9733\n",
            "Epoch 33/100\n",
            "75/75 [==============================] - 15s 198ms/step - loss: 1.7502e-04 - accuracy: 1.0000 - val_loss: 0.2210 - val_accuracy: 0.9750\n",
            "Epoch 34/100\n",
            "75/75 [==============================] - 14s 190ms/step - loss: 0.0045 - accuracy: 0.9983 - val_loss: 0.1694 - val_accuracy: 0.9733\n",
            "Epoch 35/100\n",
            "75/75 [==============================] - 15s 197ms/step - loss: 0.0052 - accuracy: 0.9983 - val_loss: 0.2223 - val_accuracy: 0.9717\n",
            "Epoch 36/100\n",
            "75/75 [==============================] - 15s 198ms/step - loss: 0.0019 - accuracy: 0.9996 - val_loss: 0.2568 - val_accuracy: 0.9783\n",
            "Epoch 37/100\n",
            "75/75 [==============================] - 15s 198ms/step - loss: 0.0179 - accuracy: 0.9942 - val_loss: 0.1586 - val_accuracy: 0.9650\n",
            "Epoch 38/100\n",
            "75/75 [==============================] - 14s 190ms/step - loss: 0.0307 - accuracy: 0.9871 - val_loss: 0.1745 - val_accuracy: 0.9733\n",
            "Epoch 39/100\n",
            "75/75 [==============================] - 14s 189ms/step - loss: 0.0187 - accuracy: 0.9933 - val_loss: 0.1798 - val_accuracy: 0.9700\n",
            "Epoch 40/100\n",
            "75/75 [==============================] - 15s 197ms/step - loss: 0.0068 - accuracy: 0.9979 - val_loss: 0.2165 - val_accuracy: 0.9733\n",
            "Epoch 41/100\n",
            "75/75 [==============================] - 15s 197ms/step - loss: 0.0061 - accuracy: 0.9983 - val_loss: 0.1906 - val_accuracy: 0.9767\n",
            "Epoch 42/100\n",
            "75/75 [==============================] - 15s 197ms/step - loss: 0.0206 - accuracy: 0.9937 - val_loss: 0.1953 - val_accuracy: 0.9783\n",
            "Epoch 43/100\n",
            "75/75 [==============================] - 15s 197ms/step - loss: 0.0031 - accuracy: 0.9987 - val_loss: 0.2068 - val_accuracy: 0.9717\n",
            "Epoch 44/100\n",
            "75/75 [==============================] - 14s 190ms/step - loss: 0.0017 - accuracy: 0.9992 - val_loss: 0.2051 - val_accuracy: 0.9733\n",
            "Epoch 45/100\n",
            "75/75 [==============================] - 15s 197ms/step - loss: 0.0018 - accuracy: 0.9996 - val_loss: 0.1966 - val_accuracy: 0.9783\n",
            "Epoch 46/100\n",
            "75/75 [==============================] - 15s 198ms/step - loss: 6.0511e-04 - accuracy: 1.0000 - val_loss: 0.2146 - val_accuracy: 0.9750\n",
            "Epoch 47/100\n",
            "75/75 [==============================] - 17s 226ms/step - loss: 4.6724e-04 - accuracy: 1.0000 - val_loss: 0.2346 - val_accuracy: 0.9733\n",
            "Epoch 48/100\n",
            "75/75 [==============================] - 15s 198ms/step - loss: 2.3022e-04 - accuracy: 1.0000 - val_loss: 0.2425 - val_accuracy: 0.9717\n",
            "Epoch 49/100\n",
            "75/75 [==============================] - 14s 190ms/step - loss: 4.0168e-04 - accuracy: 1.0000 - val_loss: 0.2577 - val_accuracy: 0.9717\n",
            "Epoch 50/100\n",
            "75/75 [==============================] - 15s 199ms/step - loss: 3.2978e-04 - accuracy: 1.0000 - val_loss: 0.2599 - val_accuracy: 0.9750\n",
            "Epoch 51/100\n",
            "75/75 [==============================] - 15s 197ms/step - loss: 1.3807e-04 - accuracy: 1.0000 - val_loss: 0.2635 - val_accuracy: 0.9767\n",
            "Epoch 52/100\n",
            "75/75 [==============================] - 15s 198ms/step - loss: 1.1641e-04 - accuracy: 1.0000 - val_loss: 0.2653 - val_accuracy: 0.9750\n",
            "Epoch 53/100\n",
            "75/75 [==============================] - 14s 191ms/step - loss: 8.4458e-04 - accuracy: 0.9992 - val_loss: 0.2532 - val_accuracy: 0.9717\n",
            "Epoch 54/100\n",
            "75/75 [==============================] - 15s 200ms/step - loss: 0.0030 - accuracy: 0.9996 - val_loss: 0.2739 - val_accuracy: 0.9750\n",
            "Epoch 55/100\n",
            "75/75 [==============================] - 14s 190ms/step - loss: 0.0331 - accuracy: 0.9904 - val_loss: 0.1345 - val_accuracy: 0.9750\n",
            "Epoch 56/100\n",
            "75/75 [==============================] - 14s 189ms/step - loss: 0.0183 - accuracy: 0.9929 - val_loss: 0.1637 - val_accuracy: 0.9783\n",
            "Epoch 57/100\n",
            "75/75 [==============================] - 14s 190ms/step - loss: 0.0046 - accuracy: 0.9992 - val_loss: 0.2112 - val_accuracy: 0.9767\n",
            "Epoch 58/100\n",
            "75/75 [==============================] - 15s 198ms/step - loss: 0.0010 - accuracy: 1.0000 - val_loss: 0.2307 - val_accuracy: 0.9767\n",
            "Epoch 59/100\n",
            "75/75 [==============================] - 14s 191ms/step - loss: 4.0309e-04 - accuracy: 1.0000 - val_loss: 0.2472 - val_accuracy: 0.9767\n",
            "Epoch 60/100\n",
            "75/75 [==============================] - 15s 198ms/step - loss: 3.0953e-04 - accuracy: 1.0000 - val_loss: 0.2576 - val_accuracy: 0.9750\n",
            "Epoch 61/100\n",
            "75/75 [==============================] - 14s 190ms/step - loss: 6.0785e-04 - accuracy: 1.0000 - val_loss: 0.2533 - val_accuracy: 0.9750\n",
            "Epoch 62/100\n",
            "75/75 [==============================] - 14s 191ms/step - loss: 2.2900e-04 - accuracy: 1.0000 - val_loss: 0.2517 - val_accuracy: 0.9750\n",
            "Epoch 63/100\n",
            "75/75 [==============================] - 16s 221ms/step - loss: 1.5302e-04 - accuracy: 1.0000 - val_loss: 0.2566 - val_accuracy: 0.9750\n",
            "Epoch 64/100\n",
            "75/75 [==============================] - 15s 198ms/step - loss: 1.2466e-04 - accuracy: 1.0000 - val_loss: 0.2625 - val_accuracy: 0.9750\n",
            "Epoch 65/100\n",
            "75/75 [==============================] - 15s 206ms/step - loss: 3.4328e-04 - accuracy: 1.0000 - val_loss: 0.2673 - val_accuracy: 0.9767\n",
            "Epoch 66/100\n",
            "75/75 [==============================] - 15s 197ms/step - loss: 1.0417e-04 - accuracy: 1.0000 - val_loss: 0.2715 - val_accuracy: 0.9767\n",
            "Epoch 67/100\n",
            "75/75 [==============================] - 15s 197ms/step - loss: 1.8504e-04 - accuracy: 1.0000 - val_loss: 0.2778 - val_accuracy: 0.9767\n",
            "Epoch 68/100\n",
            "75/75 [==============================] - 14s 190ms/step - loss: 1.6909e-04 - accuracy: 1.0000 - val_loss: 0.2752 - val_accuracy: 0.9767\n",
            "Epoch 69/100\n",
            "75/75 [==============================] - 16s 208ms/step - loss: 1.1984e-04 - accuracy: 1.0000 - val_loss: 0.2723 - val_accuracy: 0.9767\n",
            "Epoch 70/100\n",
            "75/75 [==============================] - 15s 199ms/step - loss: 1.3549e-04 - accuracy: 1.0000 - val_loss: 0.2808 - val_accuracy: 0.9750\n",
            "Epoch 71/100\n",
            "75/75 [==============================] - 15s 198ms/step - loss: 8.6228e-05 - accuracy: 1.0000 - val_loss: 0.2827 - val_accuracy: 0.9750\n",
            "Epoch 72/100\n",
            "75/75 [==============================] - 15s 197ms/step - loss: 4.9611e-05 - accuracy: 1.0000 - val_loss: 0.2825 - val_accuracy: 0.9767\n",
            "Epoch 73/100\n",
            "75/75 [==============================] - 15s 198ms/step - loss: 2.6868e-04 - accuracy: 1.0000 - val_loss: 0.2958 - val_accuracy: 0.9733\n",
            "Epoch 74/100\n",
            "75/75 [==============================] - 15s 197ms/step - loss: 3.1602e-04 - accuracy: 1.0000 - val_loss: 0.2724 - val_accuracy: 0.9750\n",
            "Epoch 75/100\n",
            "75/75 [==============================] - 14s 192ms/step - loss: 1.2181e-04 - accuracy: 1.0000 - val_loss: 0.2776 - val_accuracy: 0.9750\n",
            "Epoch 76/100\n",
            "75/75 [==============================] - 14s 193ms/step - loss: 1.3061e-04 - accuracy: 1.0000 - val_loss: 0.2870 - val_accuracy: 0.9767\n",
            "Epoch 77/100\n",
            "75/75 [==============================] - 15s 203ms/step - loss: 2.1395e-04 - accuracy: 1.0000 - val_loss: 0.2828 - val_accuracy: 0.9817\n",
            "Epoch 78/100\n",
            "75/75 [==============================] - 14s 194ms/step - loss: 0.0268 - accuracy: 0.9917 - val_loss: 0.1761 - val_accuracy: 0.9733\n",
            "Epoch 79/100\n",
            "75/75 [==============================] - 17s 228ms/step - loss: 0.0255 - accuracy: 0.9937 - val_loss: 0.2007 - val_accuracy: 0.9717\n",
            "Epoch 80/100\n",
            "75/75 [==============================] - 15s 197ms/step - loss: 0.0014 - accuracy: 1.0000 - val_loss: 0.2617 - val_accuracy: 0.9733\n",
            "Epoch 81/100\n",
            "75/75 [==============================] - 15s 198ms/step - loss: 0.0071 - accuracy: 0.9967 - val_loss: 0.1526 - val_accuracy: 0.9800\n",
            "Epoch 82/100\n",
            "75/75 [==============================] - 14s 191ms/step - loss: 0.0101 - accuracy: 0.9954 - val_loss: 0.2179 - val_accuracy: 0.9733\n",
            "Epoch 83/100\n",
            "75/75 [==============================] - 14s 191ms/step - loss: 0.0093 - accuracy: 0.9967 - val_loss: 0.2098 - val_accuracy: 0.9717\n",
            "Epoch 84/100\n",
            "75/75 [==============================] - 16s 208ms/step - loss: 0.0088 - accuracy: 0.9971 - val_loss: 0.2164 - val_accuracy: 0.9783\n",
            "Epoch 85/100\n",
            "75/75 [==============================] - 15s 195ms/step - loss: 0.0097 - accuracy: 0.9971 - val_loss: 0.2367 - val_accuracy: 0.9817\n",
            "Epoch 86/100\n",
            "75/75 [==============================] - 14s 192ms/step - loss: 0.0091 - accuracy: 0.9962 - val_loss: 0.2253 - val_accuracy: 0.9767\n",
            "Epoch 87/100\n",
            "75/75 [==============================] - 16s 208ms/step - loss: 0.0042 - accuracy: 0.9987 - val_loss: 0.2271 - val_accuracy: 0.9800\n",
            "Epoch 88/100\n",
            "75/75 [==============================] - 14s 190ms/step - loss: 4.9453e-04 - accuracy: 1.0000 - val_loss: 0.2324 - val_accuracy: 0.9800\n",
            "Epoch 89/100\n",
            "75/75 [==============================] - 14s 192ms/step - loss: 3.6392e-04 - accuracy: 1.0000 - val_loss: 0.2272 - val_accuracy: 0.9783\n",
            "Epoch 90/100\n",
            "75/75 [==============================] - 15s 204ms/step - loss: 2.3186e-04 - accuracy: 1.0000 - val_loss: 0.2409 - val_accuracy: 0.9800\n",
            "Epoch 91/100\n",
            "75/75 [==============================] - 14s 192ms/step - loss: 0.0016 - accuracy: 0.9992 - val_loss: 0.2288 - val_accuracy: 0.9783\n",
            "Epoch 92/100\n",
            "75/75 [==============================] - 15s 205ms/step - loss: 0.0019 - accuracy: 0.9992 - val_loss: 0.2612 - val_accuracy: 0.9767\n",
            "Epoch 93/100\n",
            "75/75 [==============================] - 15s 195ms/step - loss: 7.6212e-04 - accuracy: 1.0000 - val_loss: 0.2274 - val_accuracy: 0.9750\n",
            "Epoch 94/100\n",
            "75/75 [==============================] - 16s 211ms/step - loss: 0.0065 - accuracy: 0.9967 - val_loss: 0.2419 - val_accuracy: 0.9667\n",
            "Epoch 95/100\n",
            "75/75 [==============================] - 15s 200ms/step - loss: 0.0012 - accuracy: 1.0000 - val_loss: 0.2409 - val_accuracy: 0.9750\n",
            "Epoch 96/100\n",
            "75/75 [==============================] - 14s 191ms/step - loss: 0.0011 - accuracy: 0.9996 - val_loss: 0.2455 - val_accuracy: 0.9783\n",
            "Epoch 97/100\n",
            "75/75 [==============================] - 14s 185ms/step - loss: 0.0029 - accuracy: 0.9983 - val_loss: 0.2665 - val_accuracy: 0.9783\n",
            "Epoch 98/100\n",
            "75/75 [==============================] - 15s 196ms/step - loss: 6.3786e-04 - accuracy: 1.0000 - val_loss: 0.2610 - val_accuracy: 0.9783\n",
            "Epoch 99/100\n",
            "75/75 [==============================] - 15s 200ms/step - loss: 3.2325e-04 - accuracy: 1.0000 - val_loss: 0.2720 - val_accuracy: 0.9783\n",
            "Epoch 100/100\n",
            "75/75 [==============================] - 14s 189ms/step - loss: 9.7275e-05 - accuracy: 1.0000 - val_loss: 0.2751 - val_accuracy: 0.9783\n"
          ]
        }
      ],
      "source": [
        "r=model.fit(X_train, y_train, \n",
        "batch_size=32, \n",
        "verbose=1, epochs=100, \n",
        "validation_data=(X_test, y_test),\n",
        "shuffle=False)"
      ]
    },
    {
      "cell_type": "code",
      "execution_count": null,
      "id": "uq-zfOfr4EaG",
      "metadata": {
        "colab": {
          "base_uri": "https://localhost:8080/",
          "height": 282
        },
        "id": "uq-zfOfr4EaG",
        "outputId": "681a4ded-6951-427c-ad69-9d1d9ee02b4a"
      },
      "outputs": [
        {
          "data": {
            "image/png": "[encoded data removed]",
            "text/plain": [
              "<Figure size 432x288 with 1 Axes>"
            ]
          },
          "metadata": {
            "needs_background": "light"
          },
          "output_type": "display_data"
        },
        {
          "data": {
            "text/plain": [
              "<Figure size 432x288 with 0 Axes>"
            ]
          },
          "metadata": {},
          "output_type": "display_data"
        }
      ],
      "source": [
        "plt.plot(r.history['loss'], label='train loss')\n",
        "plt.plot(r.history['val_loss'], label='val loss')\n",
        "plt.legend()\n",
        "plt.show()\n",
        "plt.savefig('LossVal_loss')"
      ]
    },
    {
      "cell_type": "code",
      "execution_count": null,
      "id": "bStC6EnyAaeB",
      "metadata": {
        "colab": {
          "base_uri": "https://localhost:8080/",
          "height": 282
        },
        "id": "bStC6EnyAaeB",
        "outputId": "3c55c6b5-d29c-4466-eada-976ff73e1d45"
      },
      "outputs": [
        {
          "data": {
            "image/png": "[encoded data removed]",
            "text/plain": [
              "<Figure size 432x288 with 1 Axes>"
            ]
          },
          "metadata": {
            "needs_background": "light"
          },
          "output_type": "display_data"
        },
        {
          "data": {
            "text/plain": [
              "<Figure size 432x288 with 0 Axes>"
            ]
          },
          "metadata": {},
          "output_type": "display_data"
        }
      ],
      "source": [
        "plt.plot(r.history['accuracy'], label='train accuracy')\n",
        "plt.plot(r.history['val_accuracy'], label='val accuracy')\n",
        "plt.legend()\n",
        "plt.show()\n",
        "plt.savefig('AccVal_accuracy')"
      ]
    },
    {
      "cell_type": "code",
      "execution_count": null,
      "id": "8_fvlAgfDklx",
      "metadata": {
        "id": "8_fvlAgfDklx"
      },
      "outputs": [],
      "source": [
        "from sklearn.metrics import accuracy_score, confusion_matrix, recall_score, f1_score\n",
        "from sklearn.metrics import plot_confusion_matrix"
      ]
    },
    {
      "cell_type": "code",
      "execution_count": null,
      "id": "4PN_0jLjNNEG",
      "metadata": {
        "id": "4PN_0jLjNNEG"
      },
      "outputs": [],
      "source": [
        "labels = ['Autism,','No autism']"
      ]
    },
    {
      "cell_type": "code",
      "execution_count": null,
      "id": "f_bZZprSFnAD",
      "metadata": {
        "colab": {
          "base_uri": "https://localhost:8080/"
        },
        "id": "f_bZZprSFnAD",
        "outputId": "34ab5260-473f-4003-ea09-dcf1de590a87"
      },
      "outputs": [
        {
          "name": "stdout",
          "output_type": "stream",
          "text": [
            "19/19 [==============================] - 1s 41ms/step\n"
          ]
        }
      ],
      "source": [
        "#confusion matrix\n",
        "y_pred=model.predict(X_test)\n",
        "y_true=y_test"
      ]
    },
    {
      "cell_type": "code",
      "execution_count": null,
      "id": "ouQ4ERWsMH0t",
      "metadata": {
        "colab": {
          "base_uri": "https://localhost:8080/",
          "height": 279
        },
        "id": "ouQ4ERWsMH0t",
        "outputId": "5b97a434-a10c-4e21-8f58-5c955dd16c63"
      },
      "outputs": [
        {
          "data": {
            "image/png": "[encoded data removed]",
            "text/plain": [
              "<Figure size 432x288 with 2 Axes>"
            ]
          },
          "metadata": {
            "needs_background": "light"
          },
          "output_type": "display_data"
        }
      ],
      "source": [
        "import matplotlib.pyplot as plt\n",
        "import numpy\n",
        "from sklearn import metrics\n",
        "\n",
        "actual = numpy.random.binomial(y_test,1)\n",
        "predicted = numpy.random.binomial(1,y_pred)\n",
        "\n",
        "confusion_matrix = metrics.confusion_matrix(actual, predicted)\n",
        "\n",
        "cm_display = metrics.ConfusionMatrixDisplay(confusion_matrix = confusion_matrix, display_labels = ['Autism', 'NoAutism'])\n",
        "\n",
        "cm_display.plot()\n",
        "plt.show()"
      ]
    },
    {
      "cell_type": "markdown",
      "id": "4de020e6",
      "metadata": {
        "id": "4de020e6",
        "papermill": {
          "duration": 0.069932,
          "end_time": "2023-02-18T06:43:16.681028",
          "exception": false,
          "start_time": "2023-02-18T06:43:16.611096",
          "status": "completed"
        },
        "tags": []
      },
      "source": [
        "## Save the Model"
      ]
    },
    {
      "cell_type": "code",
      "execution_count": null,
      "id": "5badcaaa",
      "metadata": {
        "execution": {
          "iopub.execute_input": "2023-02-18T06:43:16.818195Z",
          "iopub.status.busy": "2023-02-18T06:43:16.817822Z",
          "iopub.status.idle": "2023-02-18T06:43:16.858783Z",
          "shell.execute_reply": "2023-02-18T06:43:16.857659Z"
        },
        "id": "5badcaaa",
        "papermill": {
          "duration": 0.112332,
          "end_time": "2023-02-18T06:43:16.861541",
          "exception": false,
          "start_time": "2023-02-18T06:43:16.749209",
          "status": "completed"
        },
        "tags": []
      },
      "outputs": [],
      "source": [
        "model.save('/content/gdrive/MyDrive/Testing_abide/BrainTumorDetection.h5')"
      ]
    },
    {
      "cell_type": "markdown",
      "id": "a30ce0fe",
      "metadata": {
        "id": "a30ce0fe",
        "papermill": {
          "duration": 0.067687,
          "end_time": "2023-02-18T06:43:16.995568",
          "exception": false,
          "start_time": "2023-02-18T06:43:16.927881",
          "status": "completed"
        },
        "tags": []
      },
      "source": [
        "## Load Model "
      ]
    },
    {
      "cell_type": "code",
      "execution_count": null,
      "id": "596c7294",
      "metadata": {
        "execution": {
          "iopub.execute_input": "2023-02-18T06:43:17.137030Z",
          "iopub.status.busy": "2023-02-18T06:43:17.135843Z",
          "iopub.status.idle": "2023-02-18T06:43:17.281254Z",
          "shell.execute_reply": "2023-02-18T06:43:17.280182Z"
        },
        "id": "596c7294",
        "papermill": {
          "duration": 0.219138,
          "end_time": "2023-02-18T06:43:17.284127",
          "exception": false,
          "start_time": "2023-02-18T06:43:17.064989",
          "status": "completed"
        },
        "tags": []
      },
      "outputs": [],
      "source": [
        "model = load_model('/content/gdrive/MyDrive/Testing_abide/BrainTumorDetection.h5')"
      ]
    },
    {
      "cell_type": "markdown",
      "id": "3598f7de",
      "metadata": {
        "id": "3598f7de",
        "papermill": {
          "duration": 0.068265,
          "end_time": "2023-02-18T06:43:17.421278",
          "exception": false,
          "start_time": "2023-02-18T06:43:17.353013",
          "status": "completed"
        },
        "tags": []
      },
      "source": [
        "## Make Prediction on New Data"
      ]
    },
    {
      "cell_type": "code",
      "execution_count": null,
      "id": "b50bd237",
      "metadata": {
        "execution": {
          "iopub.execute_input": "2023-02-18T06:43:17.561371Z",
          "iopub.status.busy": "2023-02-18T06:43:17.560961Z",
          "iopub.status.idle": "2023-02-18T06:43:17.566491Z",
          "shell.execute_reply": "2023-02-18T06:43:17.565273Z"
        },
        "id": "b50bd237",
        "papermill": {
          "duration": 0.077228,
          "end_time": "2023-02-18T06:43:17.568873",
          "exception": false,
          "start_time": "2023-02-18T06:43:17.491645",
          "status": "completed"
        },
        "tags": []
      },
      "outputs": [],
      "source": [
        "def make_prediction(img):\n",
        "    \n",
        "    input_img = np.expand_dims(img, axis=0)\n",
        "    \n",
        "    res = (model.predict(input_img) > 0.5).astype(\"int32\")\n",
        "    return res"
      ]
    },
    {
      "cell_type": "code",
      "execution_count": null,
      "id": "e7d87043",
      "metadata": {
        "execution": {
          "iopub.execute_input": "2023-02-18T06:43:17.704424Z",
          "iopub.status.busy": "2023-02-18T06:43:17.704029Z",
          "iopub.status.idle": "2023-02-18T06:43:17.711950Z",
          "shell.execute_reply": "2023-02-18T06:43:17.710974Z"
        },
        "id": "e7d87043",
        "papermill": {
          "duration": 0.078264,
          "end_time": "2023-02-18T06:43:17.714135",
          "exception": false,
          "start_time": "2023-02-18T06:43:17.635871",
          "status": "completed"
        },
        "tags": []
      },
      "outputs": [],
      "source": [
        "def show_result(img):\n",
        "    img_path = f\"{image_directory}pred/{img}\"\n",
        "    image = cv2.imread(img_path)\n",
        "\n",
        "    img = Image.fromarray(image)\n",
        "\n",
        "    img = img.resize((64,64))\n",
        "\n",
        "    img = np.array(img)\n",
        "    \n",
        "    plt.imshow(img)\n",
        "    plt.show()\n",
        "    \n",
        "    pred = make_prediction(img)\n",
        "    if pred:\n",
        "        print(\"Autism Tumor Detected\")\n",
        "    else:\n",
        "        print(\"No Autism Tumor Detected\")"
      ]
    },
    {
      "cell_type": "code",
      "execution_count": null,
      "id": "994cfd92",
      "metadata": {
        "colab": {
          "base_uri": "https://localhost:8080/",
          "height": 303
        },
        "execution": {
          "iopub.execute_input": "2023-02-18T06:43:17.848631Z",
          "iopub.status.busy": "2023-02-18T06:43:17.848200Z",
          "iopub.status.idle": "2023-02-18T06:43:18.316952Z",
          "shell.execute_reply": "2023-02-18T06:43:18.315763Z"
        },
        "id": "994cfd92",
        "outputId": "e2974614-7549-4d07-b582-d51d1956b079",
        "papermill": {
          "duration": 0.538799,
          "end_time": "2023-02-18T06:43:18.319396",
          "exception": false,
          "start_time": "2023-02-18T06:43:17.780597",
          "status": "completed"
        },
        "tags": []
      },
      "outputs": [
        {
          "data": {
            "image/png": "[encoded data removed]",
            "text/plain": [
              "<Figure size 432x288 with 1 Axes>"
            ]
          },
          "metadata": {
            "needs_background": "light"
          },
          "output_type": "display_data"
        },
        {
          "name": "stdout",
          "output_type": "stream",
          "text": [
            "1/1 [==============================] - 0s 33ms/step\n",
            "Autism Tumor Detected\n"
          ]
        }
      ],
      "source": [
        "show_result('pred14.jpg')"
      ]
    },
    {
      "cell_type": "code",
      "execution_count": null,
      "id": "62aac963",
      "metadata": {
        "colab": {
          "base_uri": "https://localhost:8080/",
          "height": 303
        },
        "id": "62aac963",
        "outputId": "6f52558a-7d3b-4c45-808b-cad7173bcba4",
        "papermill": {
          "duration": 0.068675,
          "end_time": "2023-02-18T06:43:18.453816",
          "exception": false,
          "start_time": "2023-02-18T06:43:18.385141",
          "status": "completed"
        },
        "tags": []
      },
      "outputs": [
        {
          "data": {
            "image/png": "[encoded data removed]",
            "text/plain": [
              "<Figure size 432x288 with 1 Axes>"
            ]
          },
          "metadata": {
            "needs_background": "light"
          },
          "output_type": "display_data"
        },
        {
          "name": "stdout",
          "output_type": "stream",
          "text": [
            "1/1 [==============================] - 0s 139ms/step\n",
            "No Autism Tumor Detected\n"
          ]
        }
      ],
      "source": [
        "show_result('pred1.jpg')"
      ]
    }
  ],
  "metadata": {
    "colab": {
      "provenance": []
    },
    "kernelspec": {
      "display_name": "Python 3",
      "language": "python",
      "name": "python3"
    },
    "language_info": {
      "codemirror_mode": {
        "name": "ipython",
        "version": 3
      },
      "file_extension": ".py",
      "mimetype": "text/x-python",
      "name": "python",
      "nbconvert_exporter": "python",
      "pygments_lexer": "ipython3",
      "version": "3.8.10"
    },
    "papermill": {
      "default_parameters": {},
      "duration": 139.425532,
      "end_time": "2023-02-18T06:43:22.060310",
      "environment_variables": {},
      "exception": null,
      "input_path": "__notebook__.ipynb",
      "output_path": "__notebook__.ipynb",
      "parameters": {},
      "start_time": "2023-02-18T06:41:02.634778",
      "version": "2.3.4"
    }
  },
  "nbformat": 4,
  "nbformat_minor": 5
}
